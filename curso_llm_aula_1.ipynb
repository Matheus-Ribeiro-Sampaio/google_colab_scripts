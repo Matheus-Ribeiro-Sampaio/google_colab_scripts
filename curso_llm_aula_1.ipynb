{
  "nbformat": 4,
  "nbformat_minor": 0,
  "metadata": {
    "colab": {
      "provenance": [],
      "toc_visible": true,
      "authorship_tag": "ABX9TyPteCAA70zu6eDyNiww/K5P",
      "include_colab_link": true
    },
    "kernelspec": {
      "name": "python3",
      "display_name": "Python 3"
    },
    "language_info": {
      "name": "python"
    }
  },
  "cells": [
    {
      "cell_type": "markdown",
      "metadata": {
        "id": "view-in-github",
        "colab_type": "text"
      },
      "source": [
        "<a href=\"https://colab.research.google.com/github/Matheus-Ribeiro-Sampaio/google_colab_scripts/blob/main/curso_llm_aula_1.ipynb\" target=\"_parent\"><img src=\"https://colab.research.google.com/assets/colab-badge.svg\" alt=\"Open In Colab\"/></a>"
      ]
    },
    {
      "cell_type": "markdown",
      "source": [
        "Instalando todas as dependências para a criação do meu primeiro projeto de LLM:\n",
        "\n",
        "\n",
        "*   Langchain: Framework para construção de aplicações que utilizam LLM.\n",
        "*   Langchain-google-genai: Pacote de integração com os modelos de GenAI da Google.\n",
        "\n"
      ],
      "metadata": {
        "id": "kPKy4F7p36YW"
      }
    },
    {
      "cell_type": "code",
      "source": [
        "!pip install langchain"
      ],
      "metadata": {
        "collapsed": true,
        "id": "1MTTHJtu4FHG"
      },
      "execution_count": null,
      "outputs": []
    },
    {
      "cell_type": "markdown",
      "source": [
        "Importando os pacotes necessários para o projeto.\n"
      ],
      "metadata": {
        "id": "wHT1PJv169b5"
      }
    },
    {
      "cell_type": "code",
      "source": [
        "import os\n",
        "# Dados do usuário da sessão Google Colab.\n",
        "from google.colab import userdata\n",
        "# Instância do Runnable do LangChain para os modelos de chat de LLMs.\n",
        "# Runnable: É qualquer coisa que você possa chamar com uma entrada e obter uma saída.\n",
        "# chat_models: Instância de LLMs formatados para o modelo de chat.\n",
        "from langchain.chat_models import init_chat_model\n",
        "# Importando as classes de unidade de comunicação com os chats de LLM.\n",
        "from langchain_core.messages import HumanMessage, SystemMessage, AIMessage\n",
        "\n",
        "# Gemini API key.\n",
        "os.environ[\"GOOGLE_API_KEY\"] = userdata.get('GOOGLE_API_KEY')\n",
        "\n",
        "# Iniciando o modelo.\n",
        "model = init_chat_model(\"gemini-2.0-flash\", model_provider=\"google_genai\")\n"
      ],
      "metadata": {
        "id": "GVl5JL_c7F9Q"
      },
      "execution_count": null,
      "outputs": []
    },
    {
      "cell_type": "code",
      "source": [
        "\n",
        "\n",
        "messages = [\n",
        "    SystemMessage(\"Cite as referências dos 3 melhores livros atualmente.\"),\n",
        "    HumanMessage(\"Quais são os melhores livros e autores para aprender IA Moderna?\"),\n",
        "    #AIMessage(\"Responda em formato de lista somente com os nomes dos livros.\"),\n",
        "]\n",
        "\n",
        "model.invoke(messages)"
      ],
      "metadata": {
        "id": "HyfXoRLjAppm"
      },
      "execution_count": null,
      "outputs": []
    },
    {
      "cell_type": "code",
      "source": [],
      "metadata": {
        "id": "LC4a9QC2AuAm"
      },
      "execution_count": null,
      "outputs": []
    }
  ]
}